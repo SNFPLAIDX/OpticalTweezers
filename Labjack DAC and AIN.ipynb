{
 "cells": [
  {
   "cell_type": "code",
   "execution_count": 162,
   "metadata": {},
   "outputs": [
    {
     "name": "stdout",
     "output_type": "stream",
     "text": [
      "Voltage on DAC channel 0: 1.93359375\n"
     ]
    }
   ],
   "source": [
    "#this code gives me analog output, converts bits to voltage as I set the bits\n",
    "import u3\n",
    "\n",
    "def set_dac_voltage(channel, voltage):\n",
    "    if channel == 0:\n",
    "        d.getFeedback(u3.DAC0_8(voltage))\n",
    "    elif channel == 1:\n",
    "        d.getFeedback(u3.DAC1_8(voltage))\n",
    "    else:\n",
    "        print('Invalid channel number. Choose either 0 or 1.')\n",
    "        return\n",
    "    voltage_volts = voltage / 256 * 4.95\n",
    "    \n",
    "    print(f'Voltage on DAC channel {channel}: {voltage_volts}')\n",
    "    \n",
    "\n",
    "d = u3.U3()\n",
    "channel = 0\n",
    "voltage = 100 #bits\n",
    "\n",
    "set_dac_voltage(channel, voltage)\n",
    "\n",
    "d.close()"
   ]
  },
  {
   "cell_type": "code",
   "execution_count": 8,
   "metadata": {},
   "outputs": [],
   "source": [
    "#import u3\n",
    "#d = u3.U3()\n",
    "\n",
    "#def binaryToCalibratedAnalogVoltages(self, bits,isLowVoltage=False, isSingleEnded=True, isSpecialSetting = False, channelNumber = 1):\n",
    "    #slope, offset = self.getCalibratedSlopeOffset(isHighVoltagege, isSingleEnded, isSpecialSetting, channelNumber)\n",
    "    #return bits * slope + offset\n",
    "\n",
    "#bits = d.getFeedback(u3.AIN(0,31))[0]\n",
    "#print(f'AIN 1: {d.getAIN(1)} volts')\n",
    "#print(bits)\n",
    "#rint(d.binaryToCalibratedAnalogVoltage(bits))"
   ]
  },
  {
   "cell_type": "code",
   "execution_count": 9,
   "metadata": {},
   "outputs": [
    {
     "name": "stdout",
     "output_type": "stream",
     "text": [
      "bits for AIN 0: 37296\n",
      "AIN 0 Voltage: 1.4109439999999989\n"
     ]
    }
   ],
   "source": [
    "#analog input is the reverse of analog output...this time change the power supply voltage and confirm that the voltage is correct using this code and convert to bits.\n",
    "\n",
    "\n",
    "import u3\n",
    "d = u3.U3()\n",
    "\n",
    "def getAIN(self, posChannel, negChannel = 31, longSettle=False, quickSample=False):\n",
    "    isSpecial = False\n",
    "    \n",
    "    if negChannel == 32:\n",
    "        isSpecial = True\n",
    "        negChannel = 30\n",
    "        \n",
    "    bits = self.getFeedback(AIN(posChannel, negChannel, longSettle, quickSample))[0]\n",
    "\n",
    "    singleEnded = True\n",
    "    if negChannel != 31:\n",
    "        singleEnded = False\n",
    "    \n",
    "    lvChannel = False\n",
    "    \n",
    "    if self.isHV and posChannel < 4:\n",
    "            lvChannel = False\n",
    "\n",
    "    if isSpecial:\n",
    "        negChannel = 32\n",
    "        \n",
    "    return self.binaryToCalibratedAnalogVoltages(bits,isLowVoltage=False, isSingleEnded=True, isSpecialSetting= False, channelNumber = 1)\n",
    "\n",
    "bits = d.getFeedback(u3.AIN(1, 31))[0]\n",
    "#print(f'AIN 1: {d.getAIN(0)} volts')\n",
    "print('bits for AIN 0:', bits)\n",
    "print('AIN 0 Voltage:', d.binaryToCalibratedAnalogVoltage(bits,isLowVoltage=False, isSingleEnded=True, isSpecialSetting= False, channelNumber = 1))"
   ]
  },
  {
   "cell_type": "code",
   "execution_count": null,
   "metadata": {
    "collapsed": true
   },
   "outputs": [],
   "source": []
  }
 ],
 "metadata": {
  "kernelspec": {
   "display_name": "Python 3",
   "language": "python",
   "name": "python3"
  },
  "language_info": {
   "codemirror_mode": {
    "name": "ipython",
    "version": 3
   },
   "file_extension": ".py",
   "mimetype": "text/x-python",
   "name": "python",
   "nbconvert_exporter": "python",
   "pygments_lexer": "ipython3",
   "version": "3.6.1"
  }
 },
 "nbformat": 4,
 "nbformat_minor": 2
}
